{
 "cells": [
  {
   "cell_type": "code",
   "execution_count": 3,
   "metadata": {},
   "outputs": [],
   "source": [
    "import cv2\n",
    "import numpy as np\n",
    "from matplotlib import pyplot as plt\n",
    "from copy import deepcopy"
   ]
  },
  {
   "cell_type": "code",
   "execution_count": 3,
   "metadata": {},
   "outputs": [
    {
     "name": "stdout",
     "output_type": "stream",
     "text": [
      "Detecting the circles for radius:  31\n",
      "Detecting the circles for radius:  32\n",
      "Detecting the circles for radius:  33\n"
     ]
    }
   ],
   "source": [
    "\n",
    "\n",
    "def gaussian_smoothing(input_img):\n",
    "                                \n",
    "    gaussian_filter=np.array([[0.109,0.111,0.109],\n",
    "                              [0.111,0.135,0.111],\n",
    "                              [0.109,0.111,0.109]])\n",
    "                                \n",
    "    return cv2.filter2D(input_img,-1,gaussian_filter)  \n",
    "        \n",
    "def canny_edge_detection(input):\n",
    "    \n",
    "    input = input.astype('uint8')\n",
    "\n",
    "    # Using OTSU thresholding - bimodal image\n",
    "    otsu_threshold_val, ret_matrix = cv2.threshold(input,0,255,cv2.THRESH_BINARY+cv2.THRESH_OTSU)\n",
    "    \n",
    "    #lower_threshold = otsu_threshold_val * 0.8\n",
    "    #upper_threshold = otsu_threshold_val * 1.7\n",
    "    \n",
    "    lower_threshold = otsu_threshold_val * 0.4\n",
    "    upper_threshold = otsu_threshold_val * 1.3\n",
    "    \n",
    "    #print(lower_threshold,upper_threshold)\n",
    "    \n",
    "    #print(lower_threshold,upper_threshold)\n",
    "    edges = cv2.Canny(input, lower_threshold, upper_threshold)\n",
    "    return edges\n",
    "    \n",
    "def HoughCircles(input,circles): \n",
    "    rows = input.shape[0] \n",
    "    cols = input.shape[1] \n",
    "    \n",
    "    # initializing the angles to be computed \n",
    "    sinang = dict() \n",
    "    cosang = dict() \n",
    "    \n",
    "    # initializing the angles  \n",
    "    for angle in range(0,360): \n",
    "        sinang[angle] = np.sin(angle * np.pi/180) \n",
    "        cosang[angle] = np.cos(angle * np.pi/180) \n",
    "            \n",
    "    # initializing the different radius\n",
    "    # For Given Test Image <----------------------PLEASE SEE BEFORE RUNNING------------------------------->\n",
    "    radius = [i for i in range(10,70)]\n",
    "    # For Generic Images\n",
    "    #length=int(rows/2)\n",
    "    #radius = [i for i in range(5,length)]\n",
    "\n",
    "       \n",
    "    # Initial threshold value \n",
    "    threshold = 190 \n",
    "    \n",
    "    for r in radius:\n",
    "        #Initializing an empty 2D array with zeroes \n",
    "        acc_cells = np.full((rows,cols),fill_value=0,dtype=np.uint64)\n",
    "         \n",
    "        # Iterating through the original image \n",
    "        for x in range(rows): \n",
    "            for y in range(cols): \n",
    "                if input[x][y] == 255:# edge \n",
    "                    # increment in the accumulator cells \n",
    "                    for angle in range(0,360): \n",
    "                        b = y - round(r * sinang[angle]) \n",
    "                        a = x - round(r * cosang[angle]) \n",
    "                        if a >= 0 and a < rows and b >= 0 and b < cols: \n",
    "                            acc_cells[a][b] += 1\n",
    "                             \n",
    "       # print('For radius: ',r)\n",
    "        acc_cell_max = np.amax(acc_cells)\n",
    "        #print('max acc value: ',acc_cell_max)\n",
    "        \n",
    "        if(acc_cell_max > 150):  \n",
    "\n",
    "            print(\"Detecting the circles for radius: \",r)       \n",
    "            \n",
    "            # Initial threshold\n",
    "            acc_cells[acc_cells < 150] = 0  \n",
    "               \n",
    "            # find the circles for this radius \n",
    "            for i in range(rows): \n",
    "                for j in range(cols): \n",
    "                    if(i > 0 and j > 0 and i < rows-1 and j < cols-1 and acc_cells[i][j] >= 150):\n",
    "                        avg_sum = np.float32((acc_cells[i][j]+acc_cells[i-1][j]+acc_cells[i+1][j]+acc_cells[i][j-1]+acc_cells[i][j+1]+acc_cells[i-1][j-1]+acc_cells[i-1][j+1]+acc_cells[i+1][j-1]+acc_cells[i+1][j+1])/9) \n",
    "                        #print(\"Intermediate avg_sum: \",avg_sum)\n",
    "                        if(avg_sum >= 33):\n",
    "                            #print(\"For radius: \",r,\"average: \",avg_sum,\"\\n\")\n",
    "                            circles.append((i,j,r))\n",
    "                            acc_cells[i:i+5,j:j+7] = 0\n",
    "                 \n",
    "\n",
    "def main():\n",
    "    \n",
    "    img_path = 'disks.png'\n",
    "    #sample_inp1_path = 'circle_sample_1.jpg'\n",
    "    \n",
    "    orig_img = cv2.imread(img_path)\n",
    "    \n",
    "    # Reading the input image and converting to gray scale\n",
    "    input = cv2.imread(img_path,cv2.IMREAD_GRAYSCALE)\n",
    "    \n",
    "    # Create copy of the orignial image\n",
    "    input_img = deepcopy(input)\n",
    "    \n",
    "    #Steps\n",
    "    #1. Denoise using Gaussian filter and detect edges using canny edge detector\n",
    "    smoothed_img = gaussian_smoothing(input_img)\n",
    "    \n",
    "    #2. Detect Edges using Canny Edge Detector\n",
    "    edged_image = canny_edge_detection(smoothed_img)\n",
    "    #3. Detect Circle radius\n",
    "    #4. Perform Circle Hough Transform\n",
    "    circles = []\n",
    "    \n",
    "    # cv2.imshow('Circle Detected Image',edged_image)\n",
    "   \n",
    "    # Detect Circle \n",
    "    HoughCircles(edged_image,circles)  \n",
    "    \n",
    "    # Print the output\n",
    "    for vertex in circles:\n",
    "        cv2.circle(orig_img,(vertex[1],vertex[0]),vertex[2],(0,255,0),1)\n",
    "        cv2.rectangle(orig_img,(vertex[1]-2,vertex[0]-2),(vertex[1]-2,vertex[0]-2),(0,0,255),3)\n",
    "        \n",
    "    #print(circles)\n",
    "        \n",
    "    plt.imshow(orig_img)\n",
    "\n",
    "if __name__ == '__main__':\n",
    "    main()"
   ]
  },
  {
   "cell_type": "markdown",
   "metadata": {},
   "source": [
    "**Using Hough circle built in method**"
   ]
  },
  {
   "cell_type": "code",
   "execution_count": 5,
   "metadata": {},
   "outputs": [
    {
     "data": {
      "image/png": "[encoded data removed]",
      "text/plain": [
       "<Figure size 432x288 with 1 Axes>"
      ]
     },
     "metadata": {
      "needs_background": "light"
     },
     "output_type": "display_data"
    }
   ],
   "source": [
    "import numpy as np\n",
    "import cv2 as cv\n",
    "img = cv.imread('disks.png',0)\n",
    "img = cv.medianBlur(img,5)\n",
    "cimg = cv.cvtColor(img,cv.COLOR_GRAY2BGR)\n",
    "circles = cv.HoughCircles(img,cv.HOUGH_GRADIENT,1,20,\n",
    "                            param1=50,param2=30,minRadius=0,maxRadius=0)\n",
    "circles = np.uint16(np.around(circles))\n",
    "for i in circles[0,:]:\n",
    "    # draw the outer circle\n",
    "    cv.circle(cimg,(i[0],i[1]),i[2],(0,255,0),1)\n",
    "    # draw the center of the circle\n",
    "    cv.circle(cimg,(i[0],i[1]),2,(0,0,255),3)\n",
    "cv.imshow('detected circles',cimg)\n",
    "plt.imshow(cimg)\n",
    "cv2.imwrite(\"detected_c.png\",cimg)\n",
    "# cv.waitKey(0)\n",
    "cv.destroyAllWindows()"
   ]
  }
 ],
 "metadata": {
  "kernelspec": {
   "display_name": "Python 3.8.5 32-bit",
   "language": "python",
   "name": "python3"
  },
  "language_info": {
   "codemirror_mode": {
    "name": "ipython",
    "version": 3
   },
   "file_extension": ".py",
   "mimetype": "text/x-python",
   "name": "python",
   "nbconvert_exporter": "python",
   "pygments_lexer": "ipython3",
   "version": "3.8.5"
  },
  "orig_nbformat": 4,
  "vscode": {
   "interpreter": {
    "hash": "e417eef5ef023475f3aa02363265b33ad1e9ce3908697ca825a0af185700de67"
   }
  }
 },
 "nbformat": 4,
 "nbformat_minor": 2
}
